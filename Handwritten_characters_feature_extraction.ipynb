{
 "cells": [
  {
   "cell_type": "markdown",
   "metadata": {},
   "source": [
    "# Handwritten Character Recognition  \n",
    "## Shaolun Du"
   ]
  },
  {
   "cell_type": "markdown",
   "metadata": {},
   "source": [
    "# 1. Abstract"
   ]
  },
  {
   "cell_type": "markdown",
   "metadata": {},
   "source": [
    "In machine learning and statistics, classification is the problem of identifying a set of categories from a training set of data. Pattern classification methods based on learning-from-examples have\n",
    "been widely applied to character recognition from the 1990s and have brought forth\n",
    "significant improvements of recognition accuracies [1]. In this report, we investigate the characters recognition and classifications. "
   ]
  },
  {
   "cell_type": "markdown",
   "metadata": {},
   "source": [
    "# 2. Introduction"
   ]
  },
  {
   "cell_type": "markdown",
   "metadata": {},
   "source": [
    "In this report, we use the handwritten characters to do the feature extraction and classify the identifying characters among our training data set. We try to classify three characters, period \".\", \"0\" and \"1\". In the following section, we first prepare our images from the zip file \"pngs\" and glob all images that we want to use as our training set in the future. Then we determine six features of the images in order to recognize among our data. After that, we solve the determined matrix to classify the three characters. We first separate the period and then we further separate \"0\" and \"1\" to get the optimal solution and our solved x as W. Finally, we test our method by using all data."
   ]
  },
  {
   "cell_type": "markdown",
   "metadata": {},
   "source": [
    "# 3. Approaches"
   ]
  },
  {
   "cell_type": "markdown",
   "metadata": {},
   "source": [
    "In this section, we will use the classification method to separate three characters from our handwritten characters file. "
   ]
  },
  {
   "cell_type": "markdown",
   "metadata": {},
   "source": [
    "## 3.1 Images Preparation"
   ]
  },
  {
   "cell_type": "markdown",
   "metadata": {},
   "source": [
    "Firstly, we download our handwritten characters file and import glob and PIL to prepare to deal with the png files."
   ]
  },
  {
   "cell_type": "code",
   "execution_count": 1,
   "metadata": {},
   "outputs": [
    {
     "name": "stdout",
     "output_type": "stream",
     "text": [
      "Populating the interactive namespace from numpy and matplotlib\n"
     ]
    }
   ],
   "source": [
    "import zipfile\n",
    "with zipfile.ZipFile(\"pngs.zip\",\"r\") as zip_ref:\n",
    "    zip_ref.extractall()\n",
    "from PIL import Image\n",
    "import glob\n",
    "%pylab inline\n",
    "from numpy import *\n",
    "set_printoptions(linewidth=200)"
   ]
  },
  {
   "cell_type": "markdown",
   "metadata": {},
   "source": [
    "Then we can use glob to select the specific pngs and show the image by using imshow() as below. Here, we selected all classmates images of \".\", \"0\" and \"1\". We use a.shape in python to show give the dimensions for our pngs. Then we use h and w to be our height and width and create a for loop to print the image. "
   ]
  },
  {
   "cell_type": "code",
   "execution_count": 2,
   "metadata": {
    "scrolled": true
   },
   "outputs": [
    {
     "name": "stdout",
     "output_type": "stream",
     "text": [
      "pngs/000_20170329_adhishch__0.png\n",
      "(125, 100, 4)\n",
      "(125, 100) uint8 255\n"
     ]
    },
    {
     "data": {
      "image/png": "[encoded data removed]",
      "text/plain": [
       "<matplotlib.figure.Figure at 0x1111c0fd0>"
      ]
     },
     "metadata": {},
     "output_type": "display_data"
    }
   ],
   "source": [
    "pngs = []\n",
    "pngs += glob.glob('pngs/*__0.png')\n",
    "pngs += glob.glob('pngs/*_09.png')\n",
    "pngs += glob.glob('pngs/*__1.png')\n",
    "#print(pngs)\n",
    "for png in pngs:\n",
    "    print (png)\n",
    "    img = Image.open(png)\n",
    "    imshow(img)\n",
    "    a = array(img)\n",
    "    print(a.shape)\n",
    "    a = a[:,:,0] #select the red layer(because red,green,blue all the same)\n",
    "    print(a.shape,a.dtype,a.max())\n",
    "    a = array(255-a,dtype=float)\n",
    "    h,w = a.shape        #h is the height, w is the width\n",
    "    break"
   ]
  },
  {
   "cell_type": "markdown",
   "metadata": {},
   "source": [
    "## 3.2 Feature Extraction"
   ]
  },
  {
   "cell_type": "markdown",
   "metadata": {},
   "source": [
    "In the first part, we create a subset of the images in order to test our classifier method in the future. Here, we use four classmates data and the total number of the images in our subpngs is 119. We use these 119 images to be our training data and test our classified method. "
   ]
  },
  {
   "cell_type": "code",
   "execution_count": 3,
   "metadata": {},
   "outputs": [
    {
     "name": "stdout",
     "output_type": "stream",
     "text": [
      "The length of total subpngs: 119\n"
     ]
    }
   ],
   "source": [
    "subpngs = []\n",
    "for png in pngs:\n",
    "    if png[-15:-4] == 'aforthma_09' or png[-15:-4] == 'aforthma__0' or png[-15:-4] == 'aforthma__1':\n",
    "        subpngs.append(png)\n",
    "    if png[-15:-4] == 'miasette_09' or png[-15:-4] == 'miasette__0' or png[-15:-4] == 'miasette__1':\n",
    "        subpngs.append(png)\n",
    "    if png[-15:-4] == 'megantus_09' or png[-15:-4] == 'megantus__0' or png[-15:-4] == 'megantus__1' :\n",
    "        subpngs.append(png)\n",
    "    if png[-13:-4] == 'wzhu28_09' or png[-13:-4] == 'wzhu28__0' or png[-13:-4] == 'wzhu28__1':\n",
    "        subpngs.append(png)\n",
    "print(\"The length of total subpngs: \" + str(len(subpngs)))"
   ]
  },
  {
   "cell_type": "markdown",
   "metadata": {},
   "source": [
    "After we create out the subset, we determine our features that we use to recognize the characters. We make a function for the features and return F as below."
   ]
  },
  {
   "cell_type": "code",
   "execution_count": 4,
   "metadata": {
    "collapsed": true
   },
   "outputs": [],
   "source": [
    "from numpy import *\n",
    "def feturefunc(n,allpng):\n",
    "    features = ['ink','width','height','topheaviness','rightheaviness','log aspect']\n",
    "    d = len(features)\n",
    "    F = empty((n,d))       # array of feature vectors\n",
    "    for i,png in enumerate(allpng):\n",
    "        img = Image.open(png)\n",
    "        a = array(img)\n",
    "        a = a[:,:,0]       # select the red layer(because red,green,blue all the same)\n",
    "        h,w = a.shape\n",
    "        x = linspace(0,w,w,endpoint = False)\n",
    "        y = linspace(0,h,h,endpoint = False)\n",
    "\n",
    "        X,Y = meshgrid(x,y)\n",
    "        a = array(255-a,dtype=float)\n",
    "    \n",
    "        ink = a.sum()\n",
    "        F[i,0] = ink/(255*w*h/5)       # can we normalize this sensibly?\n",
    "    \n",
    "        xmin = X[a>0].min() # the minimum x value where a>0\n",
    "        xmax = X[a>0].max()\n",
    "        ymin = Y[a>0].min() # the minimum x value where a>0\n",
    "        ymax = Y[a>0].max()\n",
    "        width  = xmax - xmin\n",
    "        height = ymax - ymin\n",
    "        F[i,1] = width/w\n",
    "        F[i,2] = height/h\n",
    "    \n",
    "        xc = (xmin+xmax)/2 # center of character\n",
    "        yc = (ymin+ymax)/2\n",
    "    \n",
    "        # total ink above center\n",
    "        F[i,3] = a[Y>yc].sum()/ink\n",
    "    \n",
    "        # total ink right of center\n",
    "        F[i,4] = a[X>xc].sum()/ink\n",
    "    \n",
    "        # aspect \n",
    "        F[i,5] = log10(height/width)\n",
    "    return F"
   ]
  },
  {
   "cell_type": "markdown",
   "metadata": {},
   "source": [
    "## 3.3 Training Data Classification"
   ]
  },
  {
   "cell_type": "markdown",
   "metadata": {},
   "source": [
    "After we settle down our image data, we import \"cvxopt\" to minimize a quadratic function subject to linear equality and inequality constraints. In this part, we first classify the period, named as '09' by determining that y is positive if the png is 09, otherwise will be negative. Then we use \"solvers.qp\" to solve the matrix and can find our optimal solution. "
   ]
  },
  {
   "cell_type": "markdown",
   "metadata": {},
   "source": [
    "The quadratic programming problem stated below:\n",
    "$$\\text{Min}\\ \\frac{1}{2}x^{T}Px+q^{T}x$$\n",
    "$$\\text{s.t.}\\ Gx\\leq h$$"
   ]
  },
  {
   "cell_type": "code",
   "execution_count": 5,
   "metadata": {},
   "outputs": [
    {
     "name": "stdout",
     "output_type": "stream",
     "text": [
      "     pcost       dcost       gap    pres   dres\n",
      " 0:  2.4709e+00  2.6331e+01  3e+02  2e+00  1e+02\n",
      " 1:  1.5774e+01 -1.1292e+01  3e+01  9e-02  7e+00\n",
      " 2:  1.0347e+01  2.1880e+00  9e+00  3e-02  2e+00\n",
      " 3:  1.2309e+01  6.3495e+00  6e+00  8e-03  6e-01\n",
      " 4:  1.0381e+01  9.8664e+00  5e-01  5e-04  4e-02\n",
      " 5:  1.0378e+01  1.0224e+01  2e-01  4e-05  3e-03\n",
      " 6:  1.0362e+01  1.0360e+01  2e-03  5e-07  4e-05\n",
      " 7:  1.0362e+01  1.0362e+01  2e-05  5e-09  4e-07\n",
      " 8:  1.0362e+01  1.0362e+01  2e-07  5e-11  4e-09\n",
      "Optimal solution found.\n"
     ]
    }
   ],
   "source": [
    "from cvxopt import matrix, solvers\n",
    "d = 6\n",
    "n = len(subpngs)\n",
    "y = empty([1,len(subpngs)])\n",
    "y = array([+1 if png[-6:-4] == '09' else -1 for png in subpngs])\n",
    "#print (y)\n",
    "\n",
    "F = feturefunc(n,subpngs)\n",
    "x = F.T\n",
    "#print(x)\n",
    "X = empty((d+1,n))\n",
    "X[0,:] = 1\n",
    "X[1:,:] = x\n",
    "\n",
    "P = eye(d+1) # diagnal matrix\n",
    "P[0,0] = 0 # first element is 0\n",
    "P = matrix(P)\n",
    "\n",
    "q = zeros(d+1)\n",
    "q = matrix(q)\n",
    "\n",
    "G = (-X*y).T\n",
    "G = matrix(G)\n",
    "\n",
    "h = -ones(n)\n",
    "h = matrix(h) \n",
    "\n",
    "sol = solvers.qp(P,q,G,h)"
   ]
  },
  {
   "cell_type": "markdown",
   "metadata": {},
   "source": [
    "We can print the y matrix to check if we classified the graph correctly. By solving the matrix above, we find our W for separate the period. "
   ]
  },
  {
   "cell_type": "code",
   "execution_count": 6,
   "metadata": {},
   "outputs": [
    {
     "name": "stdout",
     "output_type": "stream",
     "text": [
      " The W for separating period: [ 2.11712752 -1.37894891 -1.00358281 -3.18095683 -0.18363529  0.07518996 -2.7670429 ]\n"
     ]
    }
   ],
   "source": [
    "W = array(sol['x']).reshape(d+1)\n",
    "print(\" The W for separating period: \" + str(W))"
   ]
  },
  {
   "cell_type": "markdown",
   "metadata": {},
   "source": [
    "After we get W, we remove all period data from subpngs and then classify 0 and 1. "
   ]
  },
  {
   "cell_type": "code",
   "execution_count": 7,
   "metadata": {},
   "outputs": [
    {
     "name": "stdout",
     "output_type": "stream",
     "text": [
      "The total number of subpngs without period: 79\n"
     ]
    }
   ],
   "source": [
    "for png in pngs:\n",
    "    if png[-15:-4] == 'aforthma_09' or png[-15:-4] == 'miasette_09' or png[-15:-4] == 'megantus_09' or png[-13:-4] == 'wzhu28_09':\n",
    "        subpngs.remove(png)\n",
    "print(\"The total number of subpngs without period: \"+ str(len(subpngs)))"
   ]
  },
  {
   "cell_type": "markdown",
   "metadata": {},
   "source": [
    "By using \"subpngs.remove\" to remove our \"09\" data so we can continue to separate 0 and 1. Here we determine that y is positive if the png is 0, negative otherwise. "
   ]
  },
  {
   "cell_type": "code",
   "execution_count": 8,
   "metadata": {},
   "outputs": [
    {
     "name": "stdout",
     "output_type": "stream",
     "text": [
      "     pcost       dcost       gap    pres   dres\n",
      " 0:  2.5408e+00  3.2135e+01  2e+02  2e+00  5e+01\n",
      " 1:  1.6378e+01 -1.7153e+01  5e+01  4e-01  9e+00\n",
      " 2:  2.2391e+01  4.8601e+00  2e+01  6e-02  1e+00\n",
      " 3:  2.2427e+01  1.0542e+01  1e+01  3e-02  7e-01\n",
      " 4:  1.9768e+01  1.7624e+01  2e+00  4e-03  1e-01\n",
      " 5:  1.9581e+01  1.9213e+01  4e-01  6e-16  2e-13\n",
      " 6:  1.9541e+01  1.9532e+01  9e-03  5e-16  6e-13\n",
      " 7:  1.9540e+01  1.9540e+01  9e-05  6e-16  1e-12\n",
      " 8:  1.9540e+01  1.9540e+01  9e-07  6e-16  8e-13\n",
      "Optimal solution found.\n",
      " The W for separating 0: [-2.96119094  5.23241912  2.08514949  1.08815406  0.83625652  0.32654359 -2.31605775]\n"
     ]
    }
   ],
   "source": [
    "y = empty([1,len(subpngs)])\n",
    "y = array([+1 if png[-6:-4] == '_0' else -1 for png in subpngs])\n",
    "d = 6\n",
    "n = len(subpngs)\n",
    "\n",
    "F = feturefunc(n,subpngs)\n",
    "x = F.T\n",
    "#print(x)\n",
    "X = empty((d+1,n))\n",
    "X[0,:] = 1\n",
    "X[1:,:] = x\n",
    "\n",
    "P = eye(d+1) # diagnal matrix\n",
    "P[0,0] = 0 # first element is 0\n",
    "P = matrix(P)\n",
    "\n",
    "q = zeros(d+1)\n",
    "q = matrix(q)\n",
    "\n",
    "G = (-X*y).T\n",
    "G = matrix(G)\n",
    "\n",
    "h = -ones(n)\n",
    "h = matrix(h) \n",
    "\n",
    "sol = solvers.qp(P,q,G,h)\n",
    "W = array(sol['x']).reshape(d+1)\n",
    "print(\" The W for separating 0: \" + str(W))"
   ]
  },
  {
   "cell_type": "markdown",
   "metadata": {},
   "source": [
    "Similiary, we can print out the y value to check our separention and solve the matrix to get the optimal solution and find the W value by solving the matrix."
   ]
  },
  {
   "cell_type": "markdown",
   "metadata": {},
   "source": [
    "## 3.4 Test All Data"
   ]
  },
  {
   "cell_type": "markdown",
   "metadata": {},
   "source": [
    "### 3.4.1 Normal Classification Method"
   ]
  },
  {
   "cell_type": "markdown",
   "metadata": {},
   "source": [
    "For all data, we first collect all students' data about these three characters. Then we remove the data that we used for our training data. That makes our new f_subpngs list.  "
   ]
  },
  {
   "cell_type": "code",
   "execution_count": 9,
   "metadata": {},
   "outputs": [
    {
     "name": "stdout",
     "output_type": "stream",
     "text": [
      "The total number of images:557\n",
      "The number of period is: 179 \n",
      "The number of 0 is: 188 \n",
      "The number of 1 is: 190\n"
     ]
    }
   ],
   "source": [
    "f_subpngs = []\n",
    "for png in pngs:\n",
    "    if png[-6:-4] == '09' or png[-6:-4] == '_0' or png[-6:-4] == '_1':\n",
    "        f_subpngs.append(png)\n",
    "    if png in subpngs:\n",
    "        f_subpngs.remove(png)\n",
    "    if png[-15:-4] == 'aforthma_09' or png[-15:-4] == 'miasette_09' or png[-15:-4] == 'megantus_09' or png[-13:-4] == 'wzhu28_09':\n",
    "        f_subpngs.remove(png)\n",
    "        \n",
    "print(\"The total number of images:\" + str(len(f_subpngs)))\n",
    "\n",
    "count_p = 0\n",
    "count_0 = 0\n",
    "count_1 = 0\n",
    "\n",
    "for png in f_subpngs:\n",
    "    if png[-6:-4] == '09':\n",
    "        count_p += 1\n",
    "    if png[-6:-4] == '_0':\n",
    "        count_0 += 1\n",
    "    if png[-6:-4] == '_1':\n",
    "        count_1 += 1\n",
    "print(\"The number of period is: \" + str(count_p),\n",
    "      \"\\nThe number of 0 is: \" + str(count_0),\n",
    "      \"\\nThe number of 1 is: \" + str(count_1))"
   ]
  },
  {
   "cell_type": "markdown",
   "metadata": {},
   "source": [
    "Then we create our features for this f_subpngs and test our classifiaction by using the given W."
   ]
  },
  {
   "cell_type": "code",
   "execution_count": 10,
   "metadata": {},
   "outputs": [
    {
     "name": "stdout",
     "output_type": "stream",
     "text": [
      "The predicted total number of images: 557\n",
      "The number of predicted number of period: 180\n"
     ]
    }
   ],
   "source": [
    "d = 6\n",
    "n = len(f_subpngs)\n",
    "F = feturefunc(n,f_subpngs)\n",
    "\n",
    "W = array([ 2.11712752, -1.37894891, -1.00358281,-3.18095683,-0.18363529,0.07518996,-2.7670429 ],dtype=float)\n",
    "x = F.T\n",
    "X = empty((d+1,n))\n",
    "X[0,:] = 1\n",
    "X[1:,:] = x\n",
    "\n",
    "# y = 1, if it is period, otherwise y is 0\n",
    "y = sign(dot(W,X))\n",
    "print(\"The predicted total number of images: \" + str(y.size))\n",
    "#print(y)\n",
    "count=0\n",
    "for i in y:\n",
    "    if  i == 1.:\n",
    "        count += 1\n",
    "print(\"The number of predicted number of period: \" + str(count))"
   ]
  },
  {
   "cell_type": "markdown",
   "metadata": {},
   "source": [
    "After we get our y list, we find the total number of images is the same as above, but the period images here is 180, which is one more than the actual images. So we create a new list named \"actual\" to compare with y in order to check if we misclassify some images. We also make a list named \"mis\" to find the index of the misclassified image."
   ]
  },
  {
   "cell_type": "code",
   "execution_count": 11,
   "metadata": {},
   "outputs": [
    {
     "name": "stdout",
     "output_type": "stream",
     "text": [
      "The index of misclassfied period image: [17]\n",
      "pngs/009_20170329_huiduan__0.png\n",
      "The difference for the period is: 1\n"
     ]
    },
    {
     "data": {
      "text/plain": [
       "<matplotlib.image.AxesImage at 0x119b84f98>"
      ]
     },
     "execution_count": 11,
     "metadata": {},
     "output_type": "execute_result"
    },
    {
     "data": {
      "image/png": "[encoded data removed]",
      "text/plain": [
       "<matplotlib.figure.Figure at 0x10fa627f0>"
      ]
     },
     "metadata": {},
     "output_type": "display_data"
    }
   ],
   "source": [
    "actual = []\n",
    "for png in f_subpngs:\n",
    "    if png[-6:-4] == '09':\n",
    "        actual.append(1.)\n",
    "    else:\n",
    "        actual.append(-1.)\n",
    "        \n",
    "mis = [k for k, i, j in zip(range(len(y)),y, actual) if i != j]\n",
    "print(\"The index of misclassfied period image: \" + str(mis))\n",
    "print(f_subpngs[17])\n",
    "print(\"The difference for the period is: \" + str(len(mis)))\n",
    "img = Image.open(f_subpngs[17])\n",
    "imshow(img)"
   ]
  },
  {
   "cell_type": "markdown",
   "metadata": {},
   "source": [
    "From above, we find that the period classification is mistaken only one image. This image actually is 0 but was mistaken as the period. We guess that this 0 is written as too small to be recognized as the period. Then we can use the same way to classified 0 and 1. We use W value which we get from training data for 0 before. We also determine that y is 1 if it is 0, -1 otherwise."
   ]
  },
  {
   "cell_type": "code",
   "execution_count": 12,
   "metadata": {},
   "outputs": [
    {
     "name": "stdout",
     "output_type": "stream",
     "text": [
      "The predicted number of total images: 557\n",
      "The predicted number of 0: 256\n"
     ]
    }
   ],
   "source": [
    "W = array([-2.96119094,5.23241912,2.08514949,1.08815406,0.83625652,0.32654359,-2.31605775],dtype=float)\n",
    "x = F.T\n",
    "X = empty((d+1,n))\n",
    "X[0,:] = 1\n",
    "X[1:,:] = x\n",
    "\n",
    "# y = 1, if it is period, otherwise y is 0\n",
    "y = sign(dot(W,X))\n",
    "print(\"The predicted number of total images: \" + str(y.size))\n",
    "\n",
    "count=0\n",
    "for i in y:\n",
    "    if i == 1.:\n",
    "        count += 1\n",
    "print(\"The predicted number of 0: \" + str(count))"
   ]
  },
  {
   "cell_type": "markdown",
   "metadata": {},
   "source": [
    "By using the same idea we used for classified the period, we can get the number of our predicated 0's images is 256, which is more than the actual images. Thus, we find the index of all images and show first seven index here with the names of the images."
   ]
  },
  {
   "cell_type": "code",
   "execution_count": 13,
   "metadata": {},
   "outputs": [
    {
     "name": "stdout",
     "output_type": "stream",
     "text": [
      "The index of misclassfied period image: \n",
      "[367, 368, 375, 377, 378, 379, 382, 387, 388, 394, 396, 397, 398, 406, 407, 413, 415, 416, 417, 420, 425, 426, 432, 434, 435, 436, 439, 444, 445, 451, 453, 454, 455, 463, 464, 470, 472, 473, 474, 477, 482, 483, 489, 491, 492, 493, 496, 501, 502, 508, 510, 511, 512, 515, 520, 521, 527, 529, 530, 531, 534, 539, 540, 546, 548, 549, 550, 553]\n",
      "\n",
      "\n",
      "The difference for the 0 is: 68\n"
     ]
    },
    {
     "data": {
      "text/plain": [
       "['pngs/001_20170329_adhishch__1.png',\n",
       " 'pngs/001_20170329_aishanib__1.png',\n",
       " 'pngs/001_20170329_kk242__1.png',\n",
       " 'pngs/001_20170329_mharnold__1.png',\n",
       " 'pngs/001_20170329_pshekhar__1.png',\n",
       " 'pngs/001_20170329_schoudhe__1.png',\n",
       " 'pngs/001_20170331_msaditya__1.png']"
      ]
     },
     "execution_count": 13,
     "metadata": {},
     "output_type": "execute_result"
    }
   ],
   "source": [
    "actual = []\n",
    "for png in f_subpngs:\n",
    "    if png[-6:-4] == '_0':\n",
    "        actual.append(1.)\n",
    "    else:\n",
    "        actual.append(-1.)\n",
    "\n",
    "mis = [k for k, i, j in zip(range(len(y)),y, actual) if i != j]\n",
    "print(\"The index of misclassfied period image: \\n\" + str(mis))\n",
    "misimages = [f_subpngs[i] for i in mis]\n",
    "print(\"\\n\")\n",
    "print(\"The difference for the 0 is: \" + str(len(misimages)))\n",
    "misimages[:7]\n"
   ]
  },
  {
   "cell_type": "markdown",
   "metadata": {},
   "source": [
    "From above output, we find that all mistaken pngs are from seven persons. We will show one of these images each person to check the reason."
   ]
  },
  {
   "cell_type": "code",
   "execution_count": 14,
   "metadata": {},
   "outputs": [
    {
     "data": {
      "text/plain": [
       "<matplotlib.image.AxesImage at 0x119ed65c0>"
      ]
     },
     "execution_count": 14,
     "metadata": {},
     "output_type": "execute_result"
    },
    {
     "data": {
      "image/png": "[encoded data removed]",
      "text/plain": [
       "<matplotlib.figure.Figure at 0x119c12550>"
      ]
     },
     "metadata": {},
     "output_type": "display_data"
    }
   ],
   "source": [
    "import matplotlib.pyplot as plt\n",
    "plt.subplot(3, 7, 1)\n",
    "img = Image.open('pngs/001_20170329_adhishch__1.png')\n",
    "plt.imshow(img)\n",
    "plt.subplot(3, 7, 2)\n",
    "img = Image.open('pngs/001_20170329_aishanib__1.png')\n",
    "plt.imshow(img)\n",
    "plt.subplot(3, 7, 3)\n",
    "img = Image.open('pngs/001_20170329_kk242__1.png')\n",
    "plt.imshow(img)\n",
    "plt.subplot(3, 7, 4)\n",
    "img = Image.open('pngs/001_20170329_mharnold__1.png')\n",
    "plt.imshow(img)\n",
    "plt.subplot(3, 7, 5)\n",
    "img = Image.open('pngs/001_20170329_pshekhar__1.png')\n",
    "plt.imshow(img)\n",
    "plt.subplot(3, 7, 6)\n",
    "img = Image.open('pngs/001_20170329_schoudhe__1.png')\n",
    "plt.imshow(img)\n",
    "plt.subplot(3, 7, 7)\n",
    "img = Image.open('pngs/001_20170331_msaditya__1.png')\n",
    "plt.imshow(img)"
   ]
  },
  {
   "cell_type": "markdown",
   "metadata": {},
   "source": [
    "From above images, we found that all mistaken 1's are written differently with the vertical 1s. If we remove all these one's from our data file at the beginning, it will improve our classification method a lot. "
   ]
  },
  {
   "cell_type": "markdown",
   "metadata": {
    "collapsed": true
   },
   "source": [
    "# 4. Conclusion"
   ]
  },
  {
   "cell_type": "markdown",
   "metadata": {
    "collapsed": true
   },
   "source": [
    "From this report, we separate three characters of all students in our class. We determine six features and then import cvxopt to solve the matrix in order to find our separate W value. We first find the W by using some training data, and then we test the W by using all data in our file. From above test, we find that there are one 0 misclassified as the period since it is too small. Also, all misclassified 0 from the second separation is because people write 1 not just a straight line. Then we remove all not good one's from our data file and test our W again, we conclude that our W is good. "
   ]
  },
  {
   "cell_type": "markdown",
   "metadata": {},
   "source": [
    "# 5. Reference"
   ]
  },
  {
   "cell_type": "markdown",
   "metadata": {},
   "source": [
    "[1] C. Liu, H. Fujisawa, Classification and Learning Methods for Character Recognition: Advances and Remaining Problems, Machine Learning in Document Analysis and Recognition (2008): 139-161."
   ]
  },
  {
   "cell_type": "markdown",
   "metadata": {},
   "source": [
    "# 6. Appendix"
   ]
  },
  {
   "cell_type": "code",
   "execution_count": 24,
   "metadata": {},
   "outputs": [
    {
     "name": "stdout",
     "output_type": "stream",
     "text": [
      "###############################\n",
      "######## Data Preparation \n",
      "##############################\n",
      "Populating the interactive namespace from numpy and matplotlib\n",
      "pngs/000_20170329_adhishch__0.png\n",
      "(125, 100, 4)\n",
      "(125, 100) uint8 255\n",
      "\n",
      "\n",
      "#############################\n",
      "########### Traingin Data \n",
      "#############################\n",
      "The length of total subpngs: 119\n"
     ]
    },
    {
     "name": "stderr",
     "output_type": "stream",
     "text": [
      "/Users/huiduan/anaconda/lib/python3.6/site-packages/IPython/core/magics/pylab.py:161: UserWarning: pylab import has clobbered these variables: ['matrix']\n",
      "`%matplotlib` prevents importing * from pylab and numpy\n",
      "  \"\\n`%matplotlib` prevents importing * from pylab and numpy\"\n"
     ]
    },
    {
     "name": "stdout",
     "output_type": "stream",
     "text": [
      "     pcost       dcost       gap    pres   dres\n",
      " 0:  2.4709e+00  2.6331e+01  3e+02  2e+00  1e+02\n",
      " 1:  1.5774e+01 -1.1292e+01  3e+01  9e-02  7e+00\n",
      " 2:  1.0347e+01  2.1880e+00  9e+00  3e-02  2e+00\n",
      " 3:  1.2309e+01  6.3495e+00  6e+00  8e-03  6e-01\n",
      " 4:  1.0381e+01  9.8664e+00  5e-01  5e-04  4e-02\n",
      " 5:  1.0378e+01  1.0224e+01  2e-01  4e-05  3e-03\n",
      " 6:  1.0362e+01  1.0360e+01  2e-03  5e-07  4e-05\n",
      " 7:  1.0362e+01  1.0362e+01  2e-05  5e-09  4e-07\n",
      " 8:  1.0362e+01  1.0362e+01  2e-07  5e-11  4e-09\n",
      "Optimal solution found.\n",
      " The W for separating period: [ 2.11712752 -1.37894891 -1.00358281 -3.18095683 -0.18363529  0.07518996 -2.7670429 ]\n",
      "The total number of subpngs without period: 79\n",
      "     pcost       dcost       gap    pres   dres\n",
      " 0:  2.5408e+00  3.2135e+01  2e+02  2e+00  5e+01\n",
      " 1:  1.6378e+01 -1.7153e+01  5e+01  4e-01  9e+00\n",
      " 2:  2.2391e+01  4.8601e+00  2e+01  6e-02  1e+00\n",
      " 3:  2.2427e+01  1.0542e+01  1e+01  3e-02  7e-01\n",
      " 4:  1.9768e+01  1.7624e+01  2e+00  4e-03  1e-01\n",
      " 5:  1.9581e+01  1.9213e+01  4e-01  6e-16  2e-13\n",
      " 6:  1.9541e+01  1.9532e+01  9e-03  5e-16  6e-13\n",
      " 7:  1.9540e+01  1.9540e+01  9e-05  6e-16  1e-12\n",
      " 8:  1.9540e+01  1.9540e+01  9e-07  6e-16  8e-13\n",
      "Optimal solution found.\n",
      " The W for separating 0: [-2.96119094  5.23241912  2.08514949  1.08815406  0.83625652  0.32654359 -2.31605775]\n",
      "\n",
      "\n",
      "################################\n",
      "########## Test All Data\n",
      "###############################\n",
      "The total number of images:557\n",
      "The number of period is: 179 \n",
      "The number of 0 is: 188 \n",
      "The number of 1 is: 190\n",
      "The predicted total number of images: 557\n",
      "The number of predicted number of period: 180\n",
      "The index of misclassfied period image: [17]\n",
      "pngs/009_20170329_huiduan__0.png\n",
      "The difference for the period is: 1\n",
      "The predicted number of total images: 557\n",
      "The predicted number of 0: 256\n",
      "The index of misclassfied period image: \n",
      "[367, 368, 375, 377, 378, 379, 382, 387, 388, 394, 396, 397, 398, 406, 407, 413, 415, 416, 417, 420, 425, 426, 432, 434, 435, 436, 439, 444, 445, 451, 453, 454, 455, 463, 464, 470, 472, 473, 474, 477, 482, 483, 489, 491, 492, 493, 496, 501, 502, 508, 510, 511, 512, 515, 520, 521, 527, 529, 530, 531, 534, 539, 540, 546, 548, 549, 550, 553]\n",
      "\n",
      "\n",
      "The difference for the 0 is: 68\n",
      "\n",
      "\n",
      "##########################\n",
      "########## Improved Classified Method\n",
      "#######################\n",
      "The number of period is: 179 \n",
      "The number of 0 is: 188 \n",
      "The number of 1 is: 120\n",
      "The index of misclassfied period: [17]\n",
      "The difference for the period is: 1\n",
      "The index of misclassfied 0: []\n",
      "The difference for the 0 is: 0\n"
     ]
    },
    {
     "data": {
      "image/png": "[encoded data removed]",
      "text/plain": [
       "<matplotlib.figure.Figure at 0x11a6e4940>"
      ]
     },
     "metadata": {},
     "output_type": "display_data"
    }
   ],
   "source": [
    "print(\"###############################\\n######## Data Preparation \\n##############################\")\n",
    "import zipfile\n",
    "with zipfile.ZipFile(\"pngs.zip\",\"r\") as zip_ref:\n",
    "    zip_ref.extractall()\n",
    "from PIL import Image\n",
    "import glob\n",
    "%pylab inline\n",
    "from numpy import *\n",
    "set_printoptions(linewidth=200)\n",
    "pngs = []\n",
    "pngs += glob.glob('pngs/*__0.png')\n",
    "pngs += glob.glob('pngs/*_09.png')\n",
    "pngs += glob.glob('pngs/*__1.png')\n",
    "#print(pngs)\n",
    "for png in pngs:\n",
    "    print (png)\n",
    "    img = Image.open(png)\n",
    "    imshow(img)\n",
    "    a = array(img)\n",
    "    print(a.shape)\n",
    "    a = a[:,:,0] #select the red layer(because red,green,blue all the same)\n",
    "    print(a.shape,a.dtype,a.max())\n",
    "    a = array(255-a,dtype=float)\n",
    "    h,w = a.shape        #h is the height, w is the width\n",
    "    break\n",
    "    \n",
    "print(\"\\n\")    \n",
    "print(\"#############################\\n########### Traingin Data \\n#############################\")\n",
    "subpngs = []\n",
    "for png in pngs:\n",
    "    if png[-15:-4] == 'aforthma_09' or png[-15:-4] == 'aforthma__0' or png[-15:-4] == 'aforthma__1':\n",
    "        subpngs.append(png)\n",
    "    if png[-15:-4] == 'miasette_09' or png[-15:-4] == 'miasette__0' or png[-15:-4] == 'miasette__1':\n",
    "        subpngs.append(png)\n",
    "    if png[-15:-4] == 'megantus_09' or png[-15:-4] == 'megantus__0' or png[-15:-4] == 'megantus__1' :\n",
    "        subpngs.append(png)\n",
    "    if png[-13:-4] == 'wzhu28_09' or png[-13:-4] == 'wzhu28__0' or png[-13:-4] == 'wzhu28__1':\n",
    "        subpngs.append(png)\n",
    "print(\"The length of total subpngs: \" + str(len(subpngs)))\n",
    "\n",
    "# create feature function\n",
    "from numpy import *\n",
    "def feturefunc(n,allpng):\n",
    "    features = ['ink','width','height','topheaviness','rightheaviness','log aspect']\n",
    "    d = len(features)\n",
    "    F = empty((n,d))       # array of feature vectors\n",
    "    for i,png in enumerate(allpng):\n",
    "        img = Image.open(png)\n",
    "        a = array(img)\n",
    "        a = a[:,:,0]       # select the red layer(because red,green,blue all the same)\n",
    "        h,w = a.shape\n",
    "        x = linspace(0,w,w,endpoint = False)\n",
    "        y = linspace(0,h,h,endpoint = False)\n",
    "\n",
    "        X,Y = meshgrid(x,y)\n",
    "        a = array(255-a,dtype=float)\n",
    "    \n",
    "        ink = a.sum()\n",
    "        F[i,0] = ink/(255*w*h/5)       # can we normalize this sensibly?\n",
    "    \n",
    "        xmin = X[a>0].min() # the minimum x value where a>0\n",
    "        xmax = X[a>0].max()\n",
    "        ymin = Y[a>0].min() # the minimum x value where a>0\n",
    "        ymax = Y[a>0].max()\n",
    "        width  = xmax - xmin\n",
    "        height = ymax - ymin\n",
    "        F[i,1] = width/w\n",
    "        F[i,2] = height/h\n",
    "    \n",
    "        xc = (xmin+xmax)/2 # center of character\n",
    "        yc = (ymin+ymax)/2\n",
    "    \n",
    "        # total ink above center\n",
    "        F[i,3] = a[Y>yc].sum()/ink\n",
    "    \n",
    "        # total ink right of center\n",
    "        F[i,4] = a[X>xc].sum()/ink\n",
    "    \n",
    "        # aspect \n",
    "        F[i,5] = log10(height/width)\n",
    "    return F\n",
    "\n",
    "#seperate period\n",
    "from cvxopt import matrix, solvers\n",
    "d = 6\n",
    "n = len(subpngs)\n",
    "y = empty([1,len(subpngs)])\n",
    "y = array([+1 if png[-6:-4] == '09' else -1 for png in subpngs])\n",
    "#print (y)\n",
    "\n",
    "F = feturefunc(n,subpngs)\n",
    "x = F.T\n",
    "#print(x)\n",
    "X = empty((d+1,n))\n",
    "X[0,:] = 1\n",
    "X[1:,:] = x\n",
    "\n",
    "P = eye(d+1) # diagnal matrix\n",
    "P[0,0] = 0 # first element is 0\n",
    "P = matrix(P)\n",
    "\n",
    "q = zeros(d+1)\n",
    "q = matrix(q)\n",
    "\n",
    "G = (-X*y).T\n",
    "G = matrix(G)\n",
    "\n",
    "h = -ones(n)\n",
    "h = matrix(h) \n",
    "\n",
    "sol = solvers.qp(P,q,G,h)\n",
    "W = array(sol['x']).reshape(d+1)\n",
    "print(\" The W for separating period: \" + str(W))\n",
    "for png in pngs:\n",
    "    if png[-15:-4] == 'aforthma_09' or png[-15:-4] == 'miasette_09' or png[-15:-4] == 'megantus_09' or png[-13:-4] == 'wzhu28_09':\n",
    "        subpngs.remove(png)\n",
    "print(\"The total number of subpngs without period: \"+ str(len(subpngs)))\n",
    "\n",
    "# seperate 0\n",
    "y = empty([1,len(subpngs)])\n",
    "y = array([+1 if png[-6:-4] == '_0' else -1 for png in subpngs])\n",
    "d = 6\n",
    "n = len(subpngs)\n",
    "\n",
    "F = feturefunc(n,subpngs)\n",
    "x = F.T\n",
    "#print(x)\n",
    "X = empty((d+1,n))\n",
    "X[0,:] = 1\n",
    "X[1:,:] = x\n",
    "\n",
    "P = eye(d+1) # diagnal matrix\n",
    "P[0,0] = 0 # first element is 0\n",
    "P = matrix(P)\n",
    "\n",
    "q = zeros(d+1)\n",
    "q = matrix(q)\n",
    "\n",
    "G = (-X*y).T\n",
    "G = matrix(G)\n",
    "\n",
    "h = -ones(n)\n",
    "h = matrix(h) \n",
    "\n",
    "sol = solvers.qp(P,q,G,h)\n",
    "W = array(sol['x']).reshape(d+1)\n",
    "print(\" The W for separating 0: \" + str(W))\n",
    "\n",
    "print(\"\\n\")\n",
    "print(\"################################\\n########## Test All Data\\n###############################\")\n",
    "f_subpngs = []\n",
    "for png in pngs:\n",
    "    if png[-6:-4] == '09' or png[-6:-4] == '_0' or png[-6:-4] == '_1':\n",
    "        f_subpngs.append(png)\n",
    "    if png in subpngs:\n",
    "        f_subpngs.remove(png)\n",
    "    if png[-15:-4] == 'aforthma_09' or png[-15:-4] == 'miasette_09' or png[-15:-4] == 'megantus_09' or png[-13:-4] == 'wzhu28_09':\n",
    "        f_subpngs.remove(png)\n",
    "        \n",
    "print(\"The total number of images:\" + str(len(f_subpngs)))\n",
    "\n",
    "count_p = 0\n",
    "count_0 = 0\n",
    "count_1 = 0\n",
    "\n",
    "for png in f_subpngs:\n",
    "    if png[-6:-4] == '09':\n",
    "        count_p += 1\n",
    "    if png[-6:-4] == '_0':\n",
    "        count_0 += 1\n",
    "    if png[-6:-4] == '_1':\n",
    "        count_1 += 1\n",
    "print(\"The number of period is: \" + str(count_p),\n",
    "      \"\\nThe number of 0 is: \" + str(count_0),\n",
    "      \"\\nThe number of 1 is: \" + str(count_1))\n",
    "\n",
    "d = 6\n",
    "n = len(f_subpngs)\n",
    "F = feturefunc(n,f_subpngs)\n",
    "\n",
    "W = array([ 2.11712752, -1.37894891, -1.00358281,-3.18095683,-0.18363529,0.07518996,-2.7670429 ],dtype=float)\n",
    "x = F.T\n",
    "X = empty((d+1,n))\n",
    "X[0,:] = 1\n",
    "X[1:,:] = x\n",
    "\n",
    "# y = 1, if it is period, otherwise y is 0\n",
    "y = sign(dot(W,X))\n",
    "print(\"The predicted total number of images: \" + str(y.size))\n",
    "#print(y)\n",
    "count=0\n",
    "for i in y:\n",
    "    if  i == 1.:\n",
    "        count += 1\n",
    "print(\"The number of predicted number of period: \" + str(count))\n",
    "\n",
    "actual = []\n",
    "for png in f_subpngs:\n",
    "    if png[-6:-4] == '09':\n",
    "        actual.append(1.)\n",
    "    else:\n",
    "        actual.append(-1.)\n",
    "        \n",
    "mis = [k for k, i, j in zip(range(len(y)),y, actual) if i != j]\n",
    "print(\"The index of misclassfied period image: \" + str(mis))\n",
    "print(f_subpngs[17])\n",
    "print(\"The difference for the period is: \" + str(len(mis)))\n",
    "img = Image.open(f_subpngs[17])\n",
    "imshow(img)\n",
    "\n",
    "W = array([-2.96119094,5.23241912,2.08514949,1.08815406,0.83625652,0.32654359,-2.31605775],dtype=float)\n",
    "x = F.T\n",
    "X = empty((d+1,n))\n",
    "X[0,:] = 1\n",
    "X[1:,:] = x\n",
    "\n",
    "# y = 1, if it is period, otherwise y is 0\n",
    "y = sign(dot(W,X))\n",
    "print(\"The predicted number of total images: \" + str(y.size))\n",
    "\n",
    "count=0\n",
    "for i in y:\n",
    "    if i == 1.:\n",
    "        count += 1\n",
    "print(\"The predicted number of 0: \" + str(count))\n",
    "\n",
    "actual = []\n",
    "for png in f_subpngs:\n",
    "    if png[-6:-4] == '_0':\n",
    "        actual.append(1.)\n",
    "    else:\n",
    "        actual.append(-1.)\n",
    "\n",
    "mis = [k for k, i, j in zip(range(len(y)),y, actual) if i != j]\n",
    "print(\"The index of misclassfied period image: \\n\" + str(mis))\n",
    "misimages = [f_subpngs[i] for i in mis]\n",
    "print(\"\\n\")\n",
    "print(\"The difference for the 0 is: \" + str(len(misimages)))\n",
    "misimages[:7]\n",
    "\n",
    "import matplotlib.pyplot as plt\n",
    "plt.subplot(3, 7, 1)\n",
    "img = Image.open('pngs/001_20170329_adhishch__1.png')\n",
    "plt.imshow(img)\n",
    "plt.subplot(3, 7, 2)\n",
    "img = Image.open('pngs/001_20170329_aishanib__1.png')\n",
    "plt.imshow(img)\n",
    "plt.subplot(3, 7, 3)\n",
    "img = Image.open('pngs/001_20170329_kk242__1.png')\n",
    "plt.imshow(img)\n",
    "plt.subplot(3, 7, 4)\n",
    "img = Image.open('pngs/001_20170329_mharnold__1.png')\n",
    "plt.imshow(img)\n",
    "plt.subplot(3, 7, 5)\n",
    "img = Image.open('pngs/001_20170329_pshekhar__1.png')\n",
    "plt.imshow(img)\n",
    "plt.subplot(3, 7, 6)\n",
    "img = Image.open('pngs/001_20170329_schoudhe__1.png')\n",
    "plt.imshow(img)\n",
    "plt.subplot(3, 7, 7)\n",
    "img = Image.open('pngs/001_20170331_msaditya__1.png')\n",
    "plt.imshow(img)\n",
    "\n",
    "print(\"\\n\")\n",
    "print(\"##########################\\n########## Improved Classified Method\\n#######################\")\n",
    "for png in f_subpngs:\n",
    "    if png[-15:-4] == 'adhishch__1' or png[-12:-4] == 'kk242__1' or png[-15:-4] == 'mharnold__1': \n",
    "        f_subpngs.remove(png)\n",
    "for png in f_subpngs:\n",
    "    if png[-15:-4] == 'pshekhar__1' or png[-15:-4] == 'aishanib__1':\n",
    "        f_subpngs.remove(png)\n",
    "for png in f_subpngs:\n",
    "    if png[-15:-4] == 'schoudhe__1' or png[-15:-4] == 'msaditya__1':\n",
    "        f_subpngs.remove(png)\n",
    "count_p = 0\n",
    "count_0 = 0\n",
    "count_1 = 0\n",
    "\n",
    "for png in f_subpngs:\n",
    "    if png[-6:-4] == '09':\n",
    "        count_p += 1\n",
    "    if png[-6:-4] == '_0':\n",
    "        count_0 += 1\n",
    "    if png[-6:-4] == '_1':\n",
    "        count_1 += 1\n",
    "print(\"The number of period is: \" + str(count_p),\n",
    "      \"\\nThe number of 0 is: \" + str(count_0),\n",
    "      \"\\nThe number of 1 is: \" + str(count_1))\n",
    "d = 6\n",
    "n = len(f_subpngs)\n",
    "F = feturefunc(n,f_subpngs)\n",
    "\n",
    "W = array([ 2.11712752, -1.37894891, -1.00358281,-3.18095683,-0.18363529,0.07518996,-2.7670429 ],dtype=float)\n",
    "x = F.T\n",
    "X = empty((d+1,n))\n",
    "X[0,:] = 1\n",
    "X[1:,:] = x\n",
    "\n",
    "# y = 1, if it is period, otherwise y is 0\n",
    "y = sign(dot(W,X))\n",
    "count=0\n",
    "for i in y:\n",
    "    if  i == 1.:\n",
    "        count += 1\n",
    "\n",
    "actual = []\n",
    "for png in f_subpngs:\n",
    "    if png[-6:-4] == '09':\n",
    "        actual.append(1.)\n",
    "    else:\n",
    "        actual.append(-1.)\n",
    "        \n",
    "mis = [k for k, i, j in zip(range(len(y)),y, actual) if i != j]\n",
    "print(\"The index of misclassfied period: \" + str(mis))\n",
    "print(\"The difference for the period is: \" + str(len(mis)))\n",
    "\n",
    "W = array([-2.96119094,5.23241912,2.08514949,1.08815406,0.83625652,0.32654359,-2.31605775],dtype=float)\n",
    "x = F.T\n",
    "X = empty((d+1,n))\n",
    "X[0,:] = 1\n",
    "X[1:,:] = x\n",
    "\n",
    "# y = 1, if it is period, otherwise y is 0\n",
    "y = sign(dot(W,X))\n",
    "#print(y.size)\n",
    "\n",
    "count=0\n",
    "for i in y:\n",
    "    if i == 1.:\n",
    "        count += 1\n",
    "#print(count)\n",
    "\n",
    "actual = []\n",
    "for png in f_subpngs:\n",
    "    if png[-6:-4] == '_0':\n",
    "        actual.append(1.)\n",
    "    else:\n",
    "        actual.append(-1.)\n",
    "\n",
    "mis = [k for k, i, j in zip(range(len(y)),y, actual) if i != j]\n",
    "print(\"The index of misclassfied 0: \" + str(mis))\n",
    "print(\"The difference for the 0 is: \" + str(len(mis)))"
   ]
  }
 ],
 "metadata": {
  "kernelspec": {
   "display_name": "Python 3",
   "language": "python",
   "name": "python3"
  },
  "language_info": {
   "codemirror_mode": {
    "name": "ipython",
    "version": 3
   },
   "file_extension": ".py",
   "mimetype": "text/x-python",
   "name": "python",
   "nbconvert_exporter": "python",
   "pygments_lexer": "ipython3",
   "version": "3.6.3"
  }
 },
 "nbformat": 4,
 "nbformat_minor": 2
}
